{
 "cells": [
  {
   "cell_type": "markdown",
   "metadata": {},
   "source": [
    "### Exercise 1\n",
    "Ask for an exam score and store that number. If the number is greater than 100, then print out 'You cannot have an exam score higher than 100'. If the number doesn't exceeed 100 but is greater than or equal to 75, then print out 'You did great on your exam!'. Otherwise if they scored lower than 75, then print out 'You need to study harder'."
   ]
  },
  {
   "cell_type": "code",
   "execution_count": 4,
   "metadata": {},
   "outputs": [
    {
     "name": "stdout",
     "output_type": "stream",
     "text": [
      "Enter exam score 88\n",
      "You did great on your exam\n"
     ]
    }
   ],
   "source": [
    "examScore = input(\"Enter exam score \")\n",
    "if float(examScore) > 100:\n",
    "     print(\"You cannot have an exam score higher than 100\")\n",
    "else:\n",
    "    if float(examScore) >= 75:\n",
    "        print(\"You did great on your exam\")\n",
    "    else:\n",
    "        print(\"You need to study harder\")\n",
    "    "
   ]
  },
  {
   "cell_type": "code",
   "execution_count": null,
   "metadata": {},
   "outputs": [],
   "source": []
  },
  {
   "cell_type": "markdown",
   "metadata": {},
   "source": [
    "### Exercise 2\n",
    "Ask a user to enter two numbers and find their average. Then, print out the average and whether each number is below or above average. Determine if a function should be created or not.\n",
    "    "
   ]
  },
  {
   "cell_type": "code",
   "execution_count": 8,
   "metadata": {},
   "outputs": [],
   "source": [
    "def average(num1, num2):\n",
    "    avg=(num1+num2)/2\n",
    "    return avg\n"
   ]
  },
  {
   "cell_type": "code",
   "execution_count": 10,
   "metadata": {},
   "outputs": [
    {
     "name": "stdout",
     "output_type": "stream",
     "text": [
      "Enter first number 76\n",
      "Enter second number 89\n",
      "average is  82.5\n"
     ]
    }
   ],
   "source": [
    "firstNum=input(\"Enter first number \")\n",
    "secondNum=input(\"Enter second number \")\n",
    "num1=float(firstNum)\n",
    "num2=float(secondNum)\n",
    "avg=average(num1, num2)\n",
    "print(\"average is \", avg)"
   ]
  },
  {
   "cell_type": "code",
   "execution_count": null,
   "metadata": {},
   "outputs": [],
   "source": []
  },
  {
   "cell_type": "markdown",
   "metadata": {},
   "source": [
    "### Exercise 3\n",
    "Write a function to convert a test score to a grade where  \n",
    " - 90 - 100: A\n",
    " - 80 - 89:  B\n",
    " - 70 - 79:  C\n",
    " - 60 - 69:  D\n",
    " - < 60   :  F\n",
    " \n",
    "If a score is not between 0 and 100 then print out an error message. In the program, ask the user for a score and then call your function. "
   ]
  },
  {
   "cell_type": "code",
   "execution_count": 2,
   "metadata": {},
   "outputs": [],
   "source": [
    "def grade(score):\n",
    "    if (score >= 90 and score <= 100):\n",
    "        grade = \"A\"\n",
    "    else:\n",
    "        if (score >=80 and score <= 89):\n",
    "            grade = \"B\"\n",
    "        else:\n",
    "            if (score >=70 and score <= 79):\n",
    "                grade = \"C\" \n",
    "            else:\n",
    "                if (score >=60 and score <= 69):\n",
    "                    grade = \"D\"\n",
    "                else:\n",
    "                    grade = \"F\"\n",
    "    return grade"
   ]
  },
  {
   "cell_type": "code",
   "execution_count": 4,
   "metadata": {},
   "outputs": [
    {
     "name": "stdout",
     "output_type": "stream",
     "text": [
      "Enter your score 95\n",
      "Your grade is  A\n"
     ]
    }
   ],
   "source": [
    "score = input(\"Enter your score \")\n",
    "print(\"Your grade is \", grade(int(score)))"
   ]
  },
  {
   "cell_type": "code",
   "execution_count": null,
   "metadata": {},
   "outputs": [],
   "source": []
  },
  {
   "cell_type": "markdown",
   "metadata": {},
   "source": [
    "### Exercise 4\n",
    "Convert following decimal number to a binary number by hand:\n",
    "\n",
    "    61\n",
    "    15\n",
    "    71\n",
    "    "
   ]
  },
  {
   "cell_type": "code",
   "execution_count": null,
   "metadata": {},
   "outputs": [],
   "source": [
    "           #reminder \n",
    "#61/2 = 30....1\n",
    "#30/2 = 15....0\n",
    "#15/2 =  7....1\n",
    "#7/2  =  3....1\n",
    "#3/2  =  1....1\n",
    "#1/2  =  0....1  ----> 0b111101\n",
    "\n",
    "#15/2 =  7....1\n",
    "#7/2  =  3....1\n",
    "#3/2  =  1....1   \n",
    "#1/2  =  0....1  -----> 0b1111\n",
    "\n",
    "#71/2 = 35....1\n",
    "#35/2 = 17....1\n",
    "#17/2 =  8....1\n",
    "#8/2  =  4....0\n",
    "#4/2  =  2....0\n",
    "#2/2  =  1....0 \n",
    "#1/2  =  0....1 ----->  0b1000111 "
   ]
  },
  {
   "cell_type": "code",
   "execution_count": 2,
   "metadata": {},
   "outputs": [
    {
     "name": "stdout",
     "output_type": "stream",
     "text": [
      "0b111101 0b1111 0b1000111\n"
     ]
    }
   ],
   "source": [
    "# use code\n",
    "print (bin(61),bin(15),bin(71))"
   ]
  },
  {
   "cell_type": "markdown",
   "metadata": {},
   "source": [
    "### Exercise 5\n",
    "When a = 61 and b = 15, what is the result of following bitwise opertion? Use inline comments to show your result in a binary number. Find your answer by hand.\n",
    "\n",
    "    a & b\n",
    "    a | b\n",
    "    a ^ b\n",
    "    a >> 2\n",
    "    "
   ]
  },
  {
   "cell_type": "code",
   "execution_count": 1,
   "metadata": {},
   "outputs": [
    {
     "name": "stdout",
     "output_type": "stream",
     "text": [
      "0b1101\n"
     ]
    }
   ],
   "source": [
    "a = 61\n",
    "b = 15\n",
    "# a   111101\n",
    "# b   001111\n",
    "# a&b 001101 ----> 0b1101\n",
    "\n",
    "print(bin(a&b))\n"
   ]
  },
  {
   "cell_type": "code",
   "execution_count": 1,
   "metadata": {},
   "outputs": [
    {
     "name": "stdout",
     "output_type": "stream",
     "text": [
      "0b111111\n"
     ]
    }
   ],
   "source": [
    "a = 61\n",
    "b = 15\n",
    "# a   111101\n",
    "# b   001111\n",
    "# a|b 111111  ----> 0b111111\n",
    " \n",
    "print(bin(a|b))"
   ]
  },
  {
   "cell_type": "code",
   "execution_count": 2,
   "metadata": {},
   "outputs": [
    {
     "name": "stdout",
     "output_type": "stream",
     "text": [
      "0b110010\n"
     ]
    }
   ],
   "source": [
    "a = 61\n",
    "b = 15\n",
    "# a   111101\n",
    "# b   001111\n",
    "# a^b 110010  ----> 0b111111\n",
    "\n",
    "print(bin(a^b))"
   ]
  },
  {
   "cell_type": "code",
   "execution_count": 3,
   "metadata": {},
   "outputs": [
    {
     "name": "stdout",
     "output_type": "stream",
     "text": [
      "0b1111\n"
     ]
    }
   ],
   "source": [
    "a = 61\n",
    "b = 15\n",
    "# a    111101\n",
    "\n",
    "# a>>2 >>1111 (01 shifted and dropped) ----> 0b1111  \n",
    "print(bin(a>>2))"
   ]
  },
  {
   "cell_type": "code",
   "execution_count": null,
   "metadata": {},
   "outputs": [],
   "source": []
  }
 ],
 "metadata": {
  "kernelspec": {
   "display_name": "Python 3 (ipykernel)",
   "language": "python",
   "name": "python3"
  },
  "language_info": {
   "codemirror_mode": {
    "name": "ipython",
    "version": 3
   },
   "file_extension": ".py",
   "mimetype": "text/x-python",
   "name": "python",
   "nbconvert_exporter": "python",
   "pygments_lexer": "ipython3",
   "version": "3.11.5"
  }
 },
 "nbformat": 4,
 "nbformat_minor": 4
}
